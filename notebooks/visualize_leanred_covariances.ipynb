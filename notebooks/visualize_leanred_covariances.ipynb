{
 "cells": [
  {
   "cell_type": "code",
   "execution_count": 1,
   "metadata": {},
   "outputs": [],
   "source": [
    "# import mpld3\n",
    "# mpld3.enable_notebook()\n",
    "\n",
    "import matplotlib\n",
    "# matplotlib.use('TkAgg')\n",
    "\n",
    "import torch, sys\n",
    "sys.path.append('..')\n",
    "from pytorch_lightning import Trainer\n",
    "from torch.utils.data import DataLoader\n",
    "from src.data.base_dataset import BasicDatasetLT\n",
    "\n",
    "from src import options\n",
    "from src.models.fc_model import BaseModelLT\n",
    "\n",
    "from src.utils.complex_tensors import complextorch2numpy\n",
    "import src.utils.visualizations as vis\n",
    "\n",
    "import matplotlib.pyplot as plt\n",
    "import glob\n",
    "plt.rcParams['figure.figsize'] = (10.0, 8.0) # set default size of plots\n",
    "\n",
    "# %matplotlib notebook\n",
    "%matplotlib widget\n",
    "# %matplotlib ipympl"
   ]
  },
  {
   "cell_type": "code",
   "execution_count": 2,
   "metadata": {
    "collapsed": false,
    "jupyter": {
     "outputs_hidden": false
    },
    "pycharm": {
     "name": "#%%\n"
    }
   },
   "outputs": [
    {
     "name": "stderr",
     "output_type": "stream",
     "text": [
      "../src/options/__init__.py:85: UserWarning: GPU is not available, using CPU instead\n",
      "  warnings.warn('GPU is not available, using CPU instead')\n"
     ]
    },
    {
     "name": "stdout",
     "output_type": "stream",
     "text": [
      "Configuration Parameters: \n",
      "experiment_name: fc_imagemethod_full\n",
      "model_name: fc\n",
      "rank: None\n",
      "hidden_layers: 2\n",
      "hidden_sizes: [3000, 3000]\n",
      "residual_flag: True\n",
      "residual_only: False\n",
      "loss: mse\n",
      "transform: None\n",
      "batch_size: 10\n",
      "num_workers: 8\n",
      "train_val_split: [0.9, 0.1]\n",
      "preload_data: True\n",
      "lr: 0.0001\n",
      "max_epochs: 100\n",
      "gpus: 0\n",
      "input_size: 512\n",
      "output_shape: torch.Size([2, 49, 49])\n",
      "last_layer_size: 4802\n",
      "data_path: /Users/ranweisman/PycharmProjects/nn-ambisonics-upscaler/notebooks/../data/raw/image-method\n",
      "logs_path: /Users/ranweisman/PycharmProjects/nn-ambisonics-upscaler/notebooks/../experiments\n",
      "input_sh_order: 3\n"
     ]
    },
    {
     "name": "stderr",
     "output_type": "stream",
     "text": [
      "GPU available: False, used: False\n",
      "TPU available: False, using: 0 TPU cores\n"
     ]
    },
    {
     "data": {
      "text/plain": [
       "BaseModelLT(\n",
       "  (linears): ModuleList(\n",
       "    (0): Linear(in_features=512, out_features=3000, bias=True)\n",
       "    (1): Linear(in_features=3000, out_features=3000, bias=True)\n",
       "    (2): Linear(in_features=3000, out_features=4802, bias=True)\n",
       "  )\n",
       ")"
      ]
     },
     "execution_count": 2,
     "metadata": {},
     "output_type": "execute_result"
    }
   ],
   "source": [
    "# --- load model ---\n",
    "\n",
    "# CKPT_PATH = '/Users/ranweisman/PycharmProjects/nn-ambisonics-upscaler/experiments/cloud_experiments/fc_hp_tune/fc_imagemethod_lowrank/version_467/checkpoints/epoch=99.ckpt'\n",
    "\n",
    "# files = glob.glob('/Users/ranweisman/PycharmProjects/nn-ambisonics-upscaler/experiments/cloud_experiments/fc_hp_tune/fc_imagemethod_full/*/checkpoints/*.ckpt')\n",
    "CKPT_PATH = '/Users/ranweisman/PycharmProjects/nn-ambisonics-upscaler/experiments/cloud_experiments/fc_hp_tune/fc_imagemethod_full/version_202/checkpoints/epoch=99.ckpt'\n",
    "# CKPT_PATH = files[221]\n",
    "\n",
    "\n",
    "checkpoint = torch.load(CKPT_PATH,map_location=torch.device('cpu'))\n",
    "opts = checkpoint['hyper_parameters']['opts'].copy()\n",
    "del opts['data_path'],opts['logs_path']\n",
    "\n",
    "base_opts = options.get_default_opts(opts)\n",
    "full_opts = options.prepare_opts(base_opts,opts)\n",
    "full_opts = options.validate_opts(full_opts)\n",
    "\n",
    "model = BaseModelLT(opts)\n",
    "model.setup('test')\n",
    "model.load_state_dict(checkpoint['state_dict'])\n",
    "trainer = Trainer()\n",
    "model.eval()\n",
    "\n",
    "# # --- load data ---\n",
    "#  loader = DataLoader(model.dataset_train, batch_size=model.hparams.batch_size, num_workers=model.hparams.num_workers)\n",
    "#\n",
    "# # --- estimate performance over all dataset ---\n",
    "#  trainer.test(model,test_dataloaders=loader)"
   ]
  },
  {
   "cell_type": "code",
   "execution_count": 3,
   "metadata": {
    "pycharm": {
     "name": "#%%\n"
    }
   },
   "outputs": [
    {
     "data": {
      "application/vnd.jupyter.widget-view+json": {
       "model_id": "1581596d253a468f8b42b671d2b4862d",
       "version_major": 2,
       "version_minor": 0
      },
      "text/plain": [
       "Canvas(toolbar=Toolbar(toolitems=[('Home', 'Reset original view', 'home', 'home'), ('Back', 'Back to previous …"
      ]
     },
     "metadata": {},
     "output_type": "display_data"
    },
    {
     "data": {
      "application/vnd.jupyter.widget-view+json": {
       "model_id": "f77c17afd59942d9b719d00ebb079993",
       "version_major": 2,
       "version_minor": 0
      },
      "text/plain": [
       "Canvas(toolbar=Toolbar(toolitems=[('Home', 'Reset original view', 'home', 'home'), ('Back', 'Back to previous …"
      ]
     },
     "metadata": {},
     "output_type": "display_data"
    },
    {
     "name": "stdout",
     "output_type": "stream",
     "text": [
      "[ 7.5348683e-02+0.j          8.7086326e-03+0.00322609j\n",
      " -1.1292484e-02+0.00445205j  4.1783643e-03+0.00403852j\n",
      "  1.6282743e-02-0.0265287j   4.5529905e-05+0.0102333j\n",
      " -1.7244050e-02-0.00148307j -2.6797312e-03-0.01018354j\n",
      "  1.2913158e-02-0.00591606j -1.1583608e-02+0.00740429j\n",
      " -4.4775042e-03+0.01580373j  6.0020410e-03+0.01222197j\n",
      "  2.5750322e-02-0.0107449j  -1.3749601e-02+0.00247505j\n",
      " -3.5252892e-03+0.00234334j  3.2907154e-02+0.00126295j]\n"
     ]
    },
    {
     "name": "stderr",
     "output_type": "stream",
     "text": [
      "../src/utils/visualizations.py:49: RuntimeWarning: invalid value encountered in log10\n",
      "  power = 10*np.log10(power)\n"
     ]
    }
   ],
   "source": [
    "# --- loop - draw a single sample and plot ---\n",
    "\n",
    "dataset = BasicDatasetLT(model.hparams.data_path, train=False)\n",
    "loader = DataLoader(dataset, batch_size=1, num_workers=0, shuffle=True)\n",
    "\n",
    "# loader = DataLoader(model.dataset_train, batch_size=1, num_workers=0, shuffle=True)\n",
    "for x,y in loader:\n",
    "\n",
    "    y_hat = model(x)\n",
    "\n",
    "    x = complextorch2numpy(x[0])\n",
    "    y = complextorch2numpy(y[0])\n",
    "    y_hat = complextorch2numpy(y_hat[0])\n",
    "\n",
    "    vis.compare_covs(x, y_hat, y)\n",
    "    vis.compare_power_maps(x, y_hat, y)\n",
    "    \n",
    "    print(x[0])\n",
    "    \n",
    "    break"
   ]
  },
  {
   "cell_type": "code",
   "execution_count": null,
   "metadata": {},
   "outputs": [],
   "source": []
  }
 ],
 "metadata": {
  "kernelspec": {
   "display_name": "Python 3",
   "language": "python",
   "name": "python3"
  },
  "language_info": {
   "codemirror_mode": {
    "name": "ipython",
    "version": 3
   },
   "file_extension": ".py",
   "mimetype": "text/x-python",
   "name": "python",
   "nbconvert_exporter": "python",
   "pygments_lexer": "ipython3",
   "version": "3.7.7"
  }
 },
 "nbformat": 4,
 "nbformat_minor": 4
}
